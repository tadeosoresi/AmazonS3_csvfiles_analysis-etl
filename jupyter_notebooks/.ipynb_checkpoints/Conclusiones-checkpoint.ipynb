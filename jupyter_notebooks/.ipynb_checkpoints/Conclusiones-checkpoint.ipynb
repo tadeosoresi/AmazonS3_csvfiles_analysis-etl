{
 "cells": [
  {
   "cell_type": "markdown",
   "id": "57c94c9d",
   "metadata": {},
   "source": [
    "<h1 align=\"center\",  style=\"background: AntiqueWhite; color:black\">Conclusiones</h1>"
   ]
  },
  {
   "cell_type": "markdown",
   "id": "11caea2d",
   "metadata": {},
   "source": [
    "<h4 style='font-style: italic; font-family: Segoe UI; font-size: 2rem'>Con respecto a cada DataFrame<br><br>\n",
    "Netflix: <br><br>\n",
    "Eliminar registro (ID: and probably will.\") que tiene mas del 60% de sus columnas nulas, ordenar registro (ID: Flying Fortress\") que tiene mezclada su data, asignar ID nuevo.<br>\n",
    "Limpiar datos incorrectos en columnas (por ejemplo, hay duraciones en Rating)<br>\n",
    "Eliminar duplicado.<br><br>\n",
    "DisneyPlus:<br><br>\n",
    "Todas las series sin Directors (¿porque sera?) dependiendo de la fuente de esos datos (quizas un scrapper, u otra base) podemos llegar a deifinir el porque del faltante de esa data.<br>\n",
    "Limpiar saltos de lineas de Cast.<br>\n",
    "Eliminar trailers, premieres, behind scenes ya que no son Movies o Series.<br><br>\n",
    "\n",
    "Con respecto a la estructura de los DF (son muy parecidos)<br><br>\n",
    "Es necesario tener un cierto lineamiento para estandarizar los campos, ya que nos encontramos con muchos campos compuestos por strings sueltos que a su vez se diferencian mediante ,&/, quizas en estos campos (director, cast, genres) seria bueno definir que sean listas con elementos.\n",
    "Estandarizar duration y que sea una columna de enteros (MINUTOS), crear otra columna de Seasons para series la cual muestre la cantidad se temporadas (es muy distinto duration a temporadas).\n",
    "Countries, podrian ir en formato ISO ya que podemos encontrarnos con United States y USA (habria muchas formas de definir un solo pais), tambien podria ser un campo lista que contenga el/los paises como elementos.\n",
    "Para date added, dar un formato de fecha mas manipulable por Pandas y otras DB's, puede ser YYYY-MM-DD.\n",
    "En conclusión, una especie de validador de tipos seria necesario a la hora de subir esta data, que chequee cada campo validando su tipo y estructura.\n",
    "</h4>"
   ]
  }
 ],
 "metadata": {
  "kernelspec": {
   "display_name": "Python 3 (ipykernel)",
   "language": "python",
   "name": "python3"
  },
  "language_info": {
   "codemirror_mode": {
    "name": "ipython",
    "version": 3
   },
   "file_extension": ".py",
   "mimetype": "text/x-python",
   "name": "python",
   "nbconvert_exporter": "python",
   "pygments_lexer": "ipython3",
   "version": "3.8.5"
  }
 },
 "nbformat": 4,
 "nbformat_minor": 5
}
